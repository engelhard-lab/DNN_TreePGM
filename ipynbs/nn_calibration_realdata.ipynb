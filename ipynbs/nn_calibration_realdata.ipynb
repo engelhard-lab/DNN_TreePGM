{
 "cells": [
  {
   "cell_type": "code",
   "execution_count": null,
   "id": "91fd2200-7fc7-4a0d-bbd1-11ac6ae9a694",
   "metadata": {},
   "outputs": [],
   "source": [
    "import os\n",
    "import sys\n",
    "import numpy as np\n",
    "import tensorflow as tf\n",
    "import tensorflow.math as tfm\n",
    "import tensorflow_probability as tfp\n",
    "from sklearn.calibration import calibration_curve\n",
    "import matplotlib.pyplot as plt\n",
    "\n",
    "current_dir = %pwd\n",
    "parent_dir = os.path.dirname(current_dir)\n",
    "sys.path.append(parent_dir)\n",
    "\n",
    "from datagen import make_breast_cancer, make_digit, make_mnist, covertype"
   ]
  },
  {
   "cell_type": "code",
   "execution_count": 24,
   "id": "3f91e5b7-3547-468d-8b77-3f436859274a",
   "metadata": {},
   "outputs": [],
   "source": [
    "def plot_calibration(y_true, prob_pred, label, title, n_bins=10):\n",
    "\n",
    "    # True and Predicted Probabilities\n",
    "    true_pos, pred_pos = calibration_curve(y_true, prob_pred, n_bins=n_bins)\n",
    " \n",
    "    # Plot the Probabilities Calibrated curve\n",
    "    plt.plot(pred_pos, true_pos, marker='o', linewidth=1, label=label)\n",
    " \n",
    "    # Plot the Perfectly Calibrated by Adding the 45-degree line to the plot\n",
    "    plt.plot([0, 1], [0, 1], linestyle='--', label='Perfectly Calibrated')\n",
    " \n",
    "    # Set the title and axis labels for the plot\n",
    "    plt.title('Probability Calibration Curve (' + title + ')')\n",
    "    plt.xlabel('Predicted Probability')\n",
    "    plt.ylabel('True Probability')\n",
    " \n",
    "    # Add a legend to the plot\n",
    "    plt.legend(loc='best')\n",
    "    plt.show()"
   ]
  },
  {
   "cell_type": "code",
   "execution_count": 25,
   "id": "f103c5dd-34e3-4759-9b3a-4d95f37d892a",
   "metadata": {},
   "outputs": [],
   "source": [
    "def calculate_ece(y_true, y_prob, n_bins=10):\n",
    "    bin_bounds = np.linspace(0, 1, n_bins + 1)\n",
    "    bin_lowers = bin_bounds[:-1]\n",
    "    bin_uppers = bin_bounds[1:]\n",
    "    \n",
    "    ece = 0.0\n",
    "    for bin_lower, bin_upper in zip(bin_lowers, bin_uppers):\n",
    "        # Indices of probabilities in this bin\n",
    "        in_bin = np.where((y_prob > bin_lower) & (y_prob <= bin_upper))[0]\n",
    "        if len(in_bin) > 0:\n",
    "            # Actual accuracy in this bin\n",
    "            bin_accuracy = np.mean(y_true[in_bin] == 1)\n",
    "            # Average predicted probability in this bin\n",
    "            bin_score = np.mean(y_prob[in_bin])\n",
    "            # Weight by the number of samples in the bin\n",
    "            bin_weight = len(in_bin) / len(y_prob)\n",
    "            # Accumulate weighted absolute difference\n",
    "            ece += np.abs(bin_score - bin_accuracy) * bin_weight\n",
    "\n",
    "    return ece"
   ]
  },
  {
   "cell_type": "code",
   "execution_count": 119,
   "id": "1deb20ee-af54-4304-a25e-6907940d1b8e",
   "metadata": {},
   "outputs": [],
   "source": [
    "rseed = 42\n",
    "tr = 1000\n",
    "ft = 20\n",
    "dat = \"cov1\""
   ]
  },
  {
   "cell_type": "code",
   "execution_count": null,
   "id": "6776200e-276d-458c-b534-d934c47e96ca",
   "metadata": {},
   "outputs": [],
   "source": [
    "if dat == \"wbc\":\n",
    "    input_shape, trn_ds, train_ds, val_ds, test_ds = make_breast_cancer(rseed)\n",
    "elif dat == \"digit\":\n",
    "    input_shape, trn_ds, train_ds, val_ds, test_ds = make_digit(rseed)\n",
    "elif dat == \"mnist\":\n",
    "    input_shape, trn_ds, test_ds = make_mnist(1000, rseed)\n",
    "elif dat == \"cov1\":\n",
    "    input_shape, trn_ds, test_ds = covertype(1, 1000, rseed)\n",
    "elif dat == \"cov2\":\n",
    "    input_shape, trn_ds, test_ds = covertype(2, 1000, rseed)\n",
    "\n",
    "y_true = []\n",
    "for input, target in test_ds:\n",
    "    y_true.append(target.numpy())\n",
    "y_true = np.concatenate(y_true).reshape(-1)"
   ]
  },
  {
   "cell_type": "code",
   "execution_count": null,
   "id": "a2bc06c6-a118-42c9-ae8f-64712a903d4e",
   "metadata": {},
   "outputs": [],
   "source": [
    "res_nn = np.load(f\"your_nn_res_path.npz\", allow_pickle=True)\n",
    "prob_nn = res_nn['proba']\n",
    "ece_nn = calculate_ece(y_true, prob_nn)\n",
    "print(\"NN ECE: %f \" % ece_nn)\n",
    "true_pos, pred_pos = calibration_curve(y_true, prob_nn, n_bins=10)\n",
    "plt.figure(figsize=(6,6))\n",
    "plt.plot(pred_pos, true_pos, marker='o', linewidth=1, label='NN')\n",
    "\n",
    "Ls = [-1, 10, 1000]\n",
    "for L in Ls:\n",
    "    res_hmc = np.load(f\"your_res_path/res_{dat}_{tr}_-4_hmc_{L}_{ft}_-4.npz\", allow_pickle=True)\n",
    "    prob_hmc = res_hmc['prob']\n",
    "    prob_hmc = np.concatenate(prob_hmc).reshape(-1)\n",
    "\n",
    "    # ECE\n",
    "    ece_hmc = calculate_ece(y_true, prob_hmc)\n",
    "    if L == -1:\n",
    "        print(f\"Gibbs ECE: {ece_hmc}\")\n",
    "    else:\n",
    "        print(f\"HMC_{L} ECE: {ece_hmc}\")\n",
    "    \n",
    "    # True and Predicted Probabilities\n",
    "    true_pos, pred_pos = calibration_curve(y_true, prob_hmc, n_bins=10)\n",
    " \n",
    "    # Plot the Probabilities Calibrated curve\n",
    "    label = 'Gibbs' if L == -1 else f'HMC(L={L})'\n",
    "    plt.plot(pred_pos, true_pos, marker='o', linewidth=1, label=label)\n",
    "\n",
    "# Plot the Perfectly Calibrated by Adding the 45-degree line to the plot\n",
    "plt.plot([0, 1], [0, 1], linestyle='--', label='Perfectly Calibrated')\n",
    "\n",
    "# Add a legend to the plot\n",
    "plt.legend(loc='best')\n",
    "plt.title(f\"Calibration Curve (Covertype)\")\n",
    "plt.xlabel(\"Mean Predicted Probabilities (Positive class:1)\")\n",
    "plt.ylabel(\"Fraction of positives (Positive class:1)\")\n",
    "plt.show()"
   ]
  }
 ],
 "metadata": {
  "kernelspec": {
   "display_name": "Python 3 (ipykernel)",
   "language": "python",
   "name": "python3"
  },
  "language_info": {
   "codemirror_mode": {
    "name": "ipython",
    "version": 3
   },
   "file_extension": ".py",
   "mimetype": "text/x-python",
   "name": "python",
   "nbconvert_exporter": "python",
   "pygments_lexer": "ipython3",
   "version": "3.11.5"
  }
 },
 "nbformat": 4,
 "nbformat_minor": 5
}
