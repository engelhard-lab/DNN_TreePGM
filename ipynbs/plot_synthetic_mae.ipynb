{
 "cells": [
  {
   "cell_type": "code",
   "execution_count": null,
   "id": "b26197f5-d884-4c61-bd21-0c532484e5a2",
   "metadata": {},
   "outputs": [],
   "source": [
    "import numpy as np\n",
    "import sys\n",
    "import os\n",
    "import scipy.stats as stats\n",
    "from sklearn.metrics import mean_absolute_error as mae\n",
    "\n",
    "current_dir = %pwd\n",
    "parent_dir = os.path.dirname(current_dir)\n",
    "sys.path.append(parent_dir)\n",
    "\n",
    "from datagen import synthetic_bn, synthetic_mn"
   ]
  },
  {
   "cell_type": "code",
   "execution_count": 10,
   "id": "cb9de5f1-f281-4e2f-9243-b34b997bd386",
   "metadata": {},
   "outputs": [],
   "source": [
    "# Hyperparameters for results of different datasets\n",
    "\n",
    "type = \"mn\"\n",
    "k = 4\n",
    "rseed = 42\n",
    "tr = 1000\n",
    "ft = 40"
   ]
  },
  {
   "cell_type": "code",
   "execution_count": null,
   "id": "3b9d2bf4-99cf-4dc0-b5ee-9caaf37ec8e7",
   "metadata": {},
   "outputs": [],
   "source": [
    "if type == \"bn\":\n",
    "    # Get y_true for BN data\n",
    "    input_shape, train_ds, test_ds = synthetic_bn(k, rseed)\n",
    "    # get y_val for validation dataset (here we use all the true probs for y_val)\n",
    "    x_test, y_test = [], []\n",
    "    bits = np.array([int(2 ** i) for i in range(input_shape)][::-1], dtype='int')\n",
    "    for input, target in test_ds: \n",
    "        x_test.extend(input.numpy())\n",
    "    x_test = np.vstack(x_test)\n",
    "\n",
    "    dat = np.load(f\"../synthetic_data/bn/bn_synthetic_{k}.npz\", allow_pickle=True)\n",
    "    true_p = dat['prob']\n",
    "    for x in x_test:\n",
    "        idx = x@bits.T\n",
    "        y_test.append(true_p[idx])\n",
    "    y_test = np.array(y_test)\n",
    "    \n",
    "elif type == \"mn\":\n",
    "    # Get y_true for MN data\n",
    "    input_shape, train_ds, test_ds = synthetic_mn(k, rseed)\n",
    "    y_test = np.concatenate([target.numpy() for input, target in test_ds])"
   ]
  },
  {
   "cell_type": "code",
   "execution_count": 12,
   "id": "55a1b285-0218-4581-8409-feffc5d82604",
   "metadata": {},
   "outputs": [],
   "source": [
    "Ls = [-1, 10, 100, 1000]\n",
    "MAEs_nn = np.empty(100)\n",
    "times_nn = np.empty(100)\n",
    "MAEs_pgm = np.empty((100, len(Ls)))\n",
    "times_pgm = np.empty((100, len(Ls)))\n",
    "for r in range(1, 100):\n",
    "    hist_nn = np.load(f\"your_hist_path/{type}{k}/run_{r}/hist_{type}{k}_{r}_bp_-4_epoch_{tr}.npz\", allow_pickle=True)\n",
    "    prob_nn = hist_nn['proba'].reshape(-1)\n",
    "    MAE_nn = mae(y_test, prob_nn)\n",
    "    MAEs_nn[r] = MAE_nn\n",
    "    times_nn[r] = hist_nn['time']\n",
    "    for L in Ls:\n",
    "        hist_pgm = np.load(f\"your_res_path/{type}{k}/run_{r}/res_{type}{k}_{r}_epoch_{tr}_-4_hmc{L}_{ft}_-4.npz\", allow_pickle=True)\n",
    "        prob_pgm = hist_pgm['prob'].reshape(-1)\n",
    "        MAE_pgm = mae(y_test, prob_pgm)\n",
    "        MAEs_pgm[r, Ls.index(L)] = MAE_pgm\n",
    "        times_pgm[r, Ls.index(L)] = hist_pgm['time']"
   ]
  },
  {
   "cell_type": "code",
   "execution_count": null,
   "id": "ff7033d7-c5a4-4296-99c7-2eb6bff717cd",
   "metadata": {},
   "outputs": [],
   "source": [
    "avg_mae_nn = np.mean(MAEs_nn)\n",
    "avg_time_nn = np.mean(times_nn)\n",
    "avg_mae_pgm = np.mean(MAEs_pgm, axis=0)\n",
    "avg_time_pgm = np.mean(times_pgm, axis=0)\n",
    "cnt = (MAEs_pgm < MAEs_nn[:, None]).sum(axis=0)\n",
    "\n",
    "print(\"NN\")\n",
    "print(\"MAE: \", avg_mae_nn)\n",
    "print(\"Time: \", avg_time_nn)\n",
    "print(\"-----------------------------------\")\n",
    "for i, L in enumerate(Ls):\n",
    "    print(L)\n",
    "    print(\"MAE: \", avg_mae_pgm[i])\n",
    "    print(\"Time: \", avg_time_pgm[i])\n",
    "    print(\"T-Test p: \", stats.ttest_rel(MAEs_nn, MAEs_pgm[:, i], alternative='greater').pvalue)\n",
    "    print(\"Sign Test p: \", stats.binomtest(cnt[i], n=100, p=0.5, alternative='greater').pvalue)\n",
    "    print(\"-----------------------------------\")"
   ]
  }
 ],
 "metadata": {
  "kernelspec": {
   "display_name": "Python 3 (ipykernel)",
   "language": "python",
   "name": "python3"
  },
  "language_info": {
   "codemirror_mode": {
    "name": "ipython",
    "version": 3
   },
   "file_extension": ".py",
   "mimetype": "text/x-python",
   "name": "python",
   "nbconvert_exporter": "python",
   "pygments_lexer": "ipython3",
   "version": "3.11.5"
  }
 },
 "nbformat": 4,
 "nbformat_minor": 5
}
