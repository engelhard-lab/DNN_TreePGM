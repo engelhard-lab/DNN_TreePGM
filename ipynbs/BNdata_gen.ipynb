{
 "cells": [
  {
   "cell_type": "code",
   "execution_count": null,
   "id": "4b549734-b376-43ea-a995-0147a3870897",
   "metadata": {},
   "outputs": [],
   "source": [
    "import os\n",
    "import sys\n",
    "import numpy as np\n",
    "import tensorflow as tf\n",
    "import tensorflow.math as tfm\n",
    "import tensorflow_probability as tfp\n",
    "from tensorflow.keras import layers\n",
    "\n",
    "current_dir = %pwd\n",
    "parent_dir = os.path.dirname(current_dir)\n",
    "sys.path.append(parent_dir)\n",
    "\n",
    "from datagen import synthetic_bn\n",
    "from synthetic import train"
   ]
  },
  {
   "cell_type": "code",
   "execution_count": 2,
   "id": "2d8506b3-51fc-4705-b91b-0b359600728f",
   "metadata": {},
   "outputs": [],
   "source": [
    "hidden_layer_sizes = [4, 4]\n",
    "dim_output = 1\n",
    "model_layers = [layers.Dense(size) for size in hidden_layer_sizes] + [layers.Dense(dim_output)]\n",
    "rseed = 42\n",
    "k = 5"
   ]
  },
  {
   "cell_type": "code",
   "execution_count": null,
   "id": "84403ce3-68d2-4188-ad6b-0bdd57fc3d27",
   "metadata": {},
   "outputs": [],
   "source": [
    "#initial weight shape\n",
    "N = 10\n",
    "dim_input = 4\n",
    "X_tmp = np.random.randint(2, size=[N, dim_input])\n",
    "x = X_tmp[:4,:]\n",
    "for layer in model_layers:\n",
    "    logits = layer(x)\n",
    "    x = tfp.distributions.Bernoulli(logits=logits).sample()"
   ]
  },
  {
   "cell_type": "code",
   "execution_count": 4,
   "id": "dfd44de7-e72d-4546-a0f6-cc3c38088e7a",
   "metadata": {},
   "outputs": [],
   "source": [
    "#manually set weights\n",
    "np.random.seed(rseed)\n",
    "dims_in = [dim_input] + hidden_layer_sizes\n",
    "dims_out = hidden_layer_sizes + [dim_output]\n",
    "for d_in, d_out, layer in zip(dims_in, dims_out, model_layers):\n",
    "    w = np.random.uniform(low=-10.0, high=10.0, size=[d_in, d_out])\n",
    "    #w = w * 2 - 1 #change {0,1} to {-1,1}\n",
    "    b = np.zeros(d_out)\n",
    "    layer.set_weights([w, b])"
   ]
  },
  {
   "cell_type": "code",
   "execution_count": 7,
   "id": "1cdc1e37-3d22-4616-89ab-247637df0a89",
   "metadata": {
    "scrolled": true
   },
   "outputs": [],
   "source": [
    "def data_gen(N, dim_in, model_layers, rseed = 42):\n",
    "    \n",
    "    np.random.seed(rseed)\n",
    "    X = np.random.randint(2, size=[N, dim_in])\n",
    "    for layer in model_layers:\n",
    "        logits = layer(X)\n",
    "        output = tfp.distributions.Bernoulli(logits=logits).sample()\n",
    "    Y = output.numpy()\n",
    "\n",
    "    return X, Y"
   ]
  },
  {
   "cell_type": "code",
   "execution_count": null,
   "id": "1606b9de-a7bc-4119-9818-08b12bc7648c",
   "metadata": {},
   "outputs": [],
   "source": [
    "X, Y = data_gen(int(1e6), dim_input, model_layers, rseed) # sample enough times to get the true P(Y|X)\n",
    "dim_x = dim_input\n",
    "bits = np.array([int(2 ** i) for i in range(dim_x)][::-1], dtype='int')\n",
    "cnt, pos = np.zeros(int(2 ** dim_x), dtype='int'), np.zeros(int(2 ** dim_x))\n",
    "for x, y in zip(X, Y):\n",
    "    idx = x@bits.T\n",
    "    cnt[idx] += 1\n",
    "    pos[idx] += y.item()\n",
    "\n",
    "true_p = np.round(pos / cnt, 4)\n",
    "print(cnt)\n",
    "print(\"The true probabilities of all inputs are \", true_p)"
   ]
  },
  {
   "cell_type": "code",
   "execution_count": null,
   "id": "87e36d09-96f1-41d3-9f67-c9f6f60ff706",
   "metadata": {},
   "outputs": [],
   "source": [
    "# save the dataset\n",
    "X_dat, Y_dat = data_gen(int(1e4), dim_input, model_layers, rseed)\n",
    "model_weights = []\n",
    "for layer in model_layers:\n",
    "    model_weights.append(layer.get_weights())\n",
    "filename = f\"synthetic_data/bn_synthetic_{k}.npz\"\n",
    "np.savez(filename, weight=model_weights, x=X_dat, y=Y_dat, prob=true_p)"
   ]
  }
 ],
 "metadata": {
  "kernelspec": {
   "display_name": "Python 3 (ipykernel)",
   "language": "python",
   "name": "python3"
  },
  "language_info": {
   "codemirror_mode": {
    "name": "ipython",
    "version": 3
   },
   "file_extension": ".py",
   "mimetype": "text/x-python",
   "name": "python",
   "nbconvert_exporter": "python",
   "pygments_lexer": "ipython3",
   "version": "3.11.5"
  }
 },
 "nbformat": 4,
 "nbformat_minor": 5
}
